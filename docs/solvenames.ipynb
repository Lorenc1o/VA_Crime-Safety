{
 "cells": [
  {
   "cell_type": "code",
   "execution_count": 6,
   "metadata": {},
   "outputs": [
    {
     "name": "stdout",
     "output_type": "stream",
     "text": [
      "Unique entries of Place in spain_population_tidy.csv:\n",
      "['Albacete' 'Alicante' 'Almería' 'Araba' 'Asturias' 'Ávila' 'Badajoz'\n",
      " 'Balears' 'Barcelona' 'Bizkaia' 'Burgos' 'Cáceres' 'Cádiz' 'Cantabria'\n",
      " 'Castellón' 'Ciudad Real' 'Córdoba' 'Coruña (A)' 'Cuenca' 'Gipuzkoa'\n",
      " 'Girona' 'Granada' 'Guadalajara' 'Huelva' 'Huesca' 'Jaén' 'León' 'Lleida'\n",
      " 'Lugo' 'Madrid' 'Málaga' 'Murcia' 'Navarra' 'Ourense' 'Palencia'\n",
      " 'Palmas (Las)' 'Pontevedra' 'Rioja (La)' 'Salamanca' 'Tenerife' 'Segovia'\n",
      " 'Sevilla' 'Soria' 'Tarragona' 'Teruel' 'Toledo' 'Valencia' 'Valladolid'\n",
      " 'Zamora' 'Zaragoza' 'Ceuta' 'Melilla']\n",
      "Unique entries of Place in spain_tidy_subcategories.csv:\n",
      "['Albacete' 'Alicante' 'Almería' 'Araba' 'Asturias' 'Ávila' 'Badajoz'\n",
      " 'Balears' 'Barcelona' 'Bizkaia' 'Burgos' 'Cáceres' 'Cádiz' 'Cantabria'\n",
      " 'Castellón' 'Ceuta' 'Ciudad Real' 'Córdoba' 'Coruña (A)' 'Cuenca'\n",
      " 'Desconocida' 'Abroad' 'Gipuzkoa' 'Girona' 'Granada' 'Guadalajara'\n",
      " 'Huelva' 'Huesca' 'Jaén' 'León' 'Lleida' 'Lugo' 'Madrid' 'Málaga'\n",
      " 'Melilla' 'Murcia' 'Navarra' 'Ourense' 'Palencia' 'Palmas (Las)'\n",
      " 'Pontevedra' 'Rioja (La)' 'Salamanca' 'Tenerife' 'Segovia' 'Sevilla'\n",
      " 'Soria' 'Tarragona' 'Teruel' 'Toledo' 'Valencia' 'Valladolid' 'Zamora'\n",
      " 'Zaragoza']\n"
     ]
    }
   ],
   "source": [
    "import pandas as pd\n",
    "\n",
    "# Read spain_population_tidy.csv\n",
    "population_df = pd.read_csv('spain_population_tidy.csv')\n",
    "unique_places_population = population_df['Place'].unique()\n",
    "print(\"Unique entries of Place in spain_population_tidy.csv:\")\n",
    "print(unique_places_population)\n",
    "\n",
    "# Read spain_tidy_subcategories.csv\n",
    "subcategories_df = pd.read_csv('spain_tidy_subcategories.csv')\n",
    "unique_places_subcategories = subcategories_df['Place'].unique()\n",
    "print(\"Unique entries of Place in spain_tidy_subcategories.csv:\")\n",
    "print(unique_places_subcategories)\n"
   ]
  }
 ],
 "metadata": {
  "kernelspec": {
   "display_name": "Python 3",
   "language": "python",
   "name": "python3"
  },
  "language_info": {
   "codemirror_mode": {
    "name": "ipython",
    "version": 3
   },
   "file_extension": ".py",
   "mimetype": "text/x-python",
   "name": "python",
   "nbconvert_exporter": "python",
   "pygments_lexer": "ipython3",
   "version": "3.9.18"
  }
 },
 "nbformat": 4,
 "nbformat_minor": 2
}
